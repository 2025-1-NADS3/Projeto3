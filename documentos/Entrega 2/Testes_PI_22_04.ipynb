{
  "nbformat": 4,
  "nbformat_minor": 0,
  "metadata": {
    "colab": {
      "provenance": []
    },
    "kernelspec": {
      "name": "python3",
      "display_name": "Python 3"
    },
    "language_info": {
      "name": "python"
    }
  },
  "cells": [
    {
      "cell_type": "code",
      "execution_count": 1,
      "metadata": {
        "colab": {
          "base_uri": "https://localhost:8080/",
          "height": 297
        },
        "id": "HxX68EMss7t4",
        "outputId": "e5cab9d2-ff02-40b7-969a-a208f368946e"
      },
      "outputs": [
        {
          "output_type": "stream",
          "name": "stderr",
          "text": [
            "E\n",
            "======================================================================\n",
            "ERROR: /root/ (unittest.loader._FailedTest./root/)\n",
            "----------------------------------------------------------------------\n",
            "AttributeError: module '__main__' has no attribute '/root/'\n",
            "\n",
            "----------------------------------------------------------------------\n",
            "Ran 1 test in 0.005s\n",
            "\n",
            "FAILED (errors=1)\n"
          ]
        },
        {
          "output_type": "error",
          "ename": "SystemExit",
          "evalue": "True",
          "traceback": [
            "An exception has occurred, use %tb to see the full traceback.\n",
            "\u001b[0;31mSystemExit\u001b[0m\u001b[0;31m:\u001b[0m True\n"
          ]
        },
        {
          "output_type": "stream",
          "name": "stderr",
          "text": [
            "/usr/local/lib/python3.11/dist-packages/IPython/core/interactiveshell.py:3561: UserWarning: To exit: use 'exit', 'quit', or Ctrl-D.\n",
            "  warn(\"To exit: use 'exit', 'quit', or Ctrl-D.\", stacklevel=1)\n"
          ]
        }
      ],
      "source": [
        "#Verifica se o cálculo da mensalidade com desconto está correto\n",
        "\n",
        "import unittest\n",
        "\n",
        "class Aluno:\n",
        "    def calcular_mensalidade(self, valor_base, desconto_percentual):\n",
        "        return valor_base * (1 - desconto_percentual / 100)\n",
        "\n",
        "class TesteCalculoMensalidade(unittest.TestCase):\n",
        "    def test_calculo_com_desconto(self):\n",
        "        aluno = Aluno()\n",
        "        resultado = aluno.calcular_mensalidade(1000, 10)\n",
        "        self.assertEqual(resultado, 900)\n",
        "\n",
        "if __name__ == '__main__':\n",
        "    unittest.main()\n"
      ]
    },
    {
      "cell_type": "code",
      "source": [
        "#Verifica se o aluno tem saldo suficiente para efetuar um pagamento\n",
        "\n",
        "import unittest\n",
        "\n",
        "class Aluno:\n",
        "    def __init__(self, saldo):\n",
        "        self.saldo = saldo\n",
        "\n",
        "    def pode_pagar(self, valor):\n",
        "        return self.saldo >= valor\n",
        "\n",
        "class TesteSaldoSuficiente(unittest.TestCase):\n",
        "    def test_saldo_suficiente(self):\n",
        "        aluno = Aluno(saldo=500)\n",
        "        self.assertTrue(aluno.pode_pagar(300))\n",
        "\n",
        "if __name__ == '__main__':\n",
        "    unittest.main()\n"
      ],
      "metadata": {
        "id": "YcxkDJCWtFIh"
      },
      "execution_count": null,
      "outputs": []
    },
    {
      "cell_type": "code",
      "source": [
        "#Garante que o pagamento falha quando o saldo do aluno é insuficiente\n",
        "import unittest\n",
        "\n",
        "class Aluno:\n",
        "    def __init__(self, saldo):\n",
        "        self.saldo = saldo\n",
        "\n",
        "    def pagar(self, valor):\n",
        "        if self.saldo >= valor:\n",
        "            self.saldo -= valor\n",
        "        else:\n",
        "            raise ValueError(\"Saldo insuficiente.\")\n",
        "\n",
        "class TestePagamentoFalha(unittest.TestCase):\n",
        "    def test_pagamento_insuficiente(self):\n",
        "        aluno = Aluno(saldo=100)\n",
        "        with self.assertRaises(ValueError):\n",
        "            aluno.pagar(200)\n",
        "\n",
        "if __name__ == '__main__':\n",
        "    unittest.main()\n"
      ],
      "metadata": {
        "id": "BqFafCubtawA"
      },
      "execution_count": null,
      "outputs": []
    },
    {
      "cell_type": "code",
      "source": [
        "#Confirma se um recibo é gerado após um pagamento com sucesso\n",
        "import unittest\n",
        "\n",
        "class Aluno:\n",
        "    def __init__(self, saldo):\n",
        "        self.saldo = saldo\n",
        "        self.recibos = []\n",
        "\n",
        "    def pagar(self, valor):\n",
        "        if self.saldo >= valor:\n",
        "            self.saldo -= valor\n",
        "            recibo = f\"Recibo de R${valor:.2f}\"\n",
        "            self.recibos.append(recibo)\n",
        "            return recibo\n",
        "        else:\n",
        "            raise ValueError(\"Saldo insuficiente.\")\n",
        "\n",
        "    def gerar_recibo(self):\n",
        "        return self.recibos[-1] if self.recibos else None\n",
        "\n",
        "class TesteReciboGerado(unittest.TestCase):\n",
        "    def test_recibo_pos_pagamento(self):\n",
        "        aluno = Aluno(saldo=500)\n",
        "        recibo = aluno.pagar(200)\n",
        "        self.assertEqual(aluno.gerar_recibo(), recibo)\n",
        "\n",
        "if __name__ == '__main__':\n",
        "    unittest.main()\n"
      ],
      "metadata": {
        "id": "d1KV5BD8thhI"
      },
      "execution_count": null,
      "outputs": []
    },
    {
      "cell_type": "code",
      "source": [
        "#Testa o fluxo completo de cadastro do aluno, pagamento e geração de recibo\n",
        "import unittest\n",
        "\n",
        "class Aluno:\n",
        "    def __init__(self, nome, saldo):\n",
        "        self.nome = nome\n",
        "        self.saldo = saldo\n",
        "        self.recibos = []\n",
        "\n",
        "    def calcular_mensalidade(self, valor_base, desconto_percentual):\n",
        "        return valor_base * (1 - desconto_percentual / 100)\n",
        "\n",
        "    def pagar(self, valor):\n",
        "        if self.saldo >= valor:\n",
        "            self.saldo -= valor\n",
        "            recibo = f\"Recibo de R${valor:.2f}\"\n",
        "            self.recibos.append(recibo)\n",
        "            return recibo\n",
        "        else:\n",
        "            raise ValueError(\"Saldo insuficiente.\")\n",
        "\n",
        "    def gerar_recibo(self):\n",
        "        return self.recibos[-1]\n",
        "\n",
        "class TesteFluxoCompleto(unittest.TestCase):\n",
        "    def test_fluxo_cadastro_pagamento_recibo(self):\n",
        "        aluno = Aluno(\"Maria\", 1000)\n",
        "        valor = aluno.calcular_mensalidade(800, 20)\n",
        "        recibo = aluno.pagar(valor)\n",
        "        self.assertIn(\"Recibo\", recibo)\n",
        "        self.assertEqual(aluno.gerar_recibo(), recibo)\n",
        "\n",
        "if __name__ == '__main__':\n",
        "    unittest.main()\n"
      ],
      "metadata": {
        "id": "fZgA-49jtn5C"
      },
      "execution_count": null,
      "outputs": []
    },
    {
      "cell_type": "code",
      "source": [
        "#Simula a integração com uma API externa de pagamento e verifica a respostaimport unittest\n",
        "\n",
        "\n",
        "def api_pagamento(valor):\n",
        "    return {\"status\": \"sucesso\", \"valor\": valor}\n",
        "\n",
        "class TesteIntegracaoAPI(unittest.TestCase):\n",
        "    def test_api_pagamento_resposta(self):\n",
        "        resposta = api_pagamento(300)\n",
        "        self.assertEqual(resposta[\"status\"], \"sucesso\")\n",
        "        self.assertEqual(resposta[\"valor\"], 300)\n",
        "\n",
        "if __name__ == '__main__':\n",
        "    unittest.main()\n"
      ],
      "metadata": {
        "colab": {
          "base_uri": "https://localhost:8080/",
          "height": 106
        },
        "id": "Ol-VZnMgttyW",
        "outputId": "38b6a8fc-8011-433a-b442-6f4f27a9f488"
      },
      "execution_count": 2,
      "outputs": [
        {
          "output_type": "error",
          "ename": "SyntaxError",
          "evalue": "invalid syntax (<ipython-input-2-218c7d25df62>, line 1)",
          "traceback": [
            "\u001b[0;36m  File \u001b[0;32m\"<ipython-input-2-218c7d25df62>\"\u001b[0;36m, line \u001b[0;32m1\u001b[0m\n\u001b[0;31m    //import unittest\u001b[0m\n\u001b[0m    ^\u001b[0m\n\u001b[0;31mSyntaxError\u001b[0m\u001b[0;31m:\u001b[0m invalid syntax\n"
          ]
        }
      ]
    },
    {
      "cell_type": "code",
      "source": [],
      "metadata": {
        "id": "VUCdP23_txOi"
      },
      "execution_count": null,
      "outputs": []
    }
  ]
}